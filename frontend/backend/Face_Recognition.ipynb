{
 "cells": [
  {
   "cell_type": "markdown",
   "id": "38fbbff1548cf532",
   "metadata": {
    "collapsed": false
   },
   "source": [
    "--- \n",
    "### Importing The Necessary-Libraries\n",
    "---"
   ]
  },
  {
   "cell_type": "code",
   "execution_count": 121,
   "id": "initial_id",
   "metadata": {
    "ExecuteTime": {
     "end_time": "2024-06-03T09:24:42.063956Z",
     "start_time": "2024-06-03T09:24:41.355639Z"
    },
    "collapsed": true
   },
   "outputs": [],
   "source": [
    "import cv2\n",
    "import time\n",
    "import numpy as np\n",
    "\n",
    "\n",
    "# importing algorithms\n",
    "from PCA import pca_class\n",
    "\n",
    "# importing feature extraction classes\n",
    "from images_to_matrix import images_to_matrix_class\n",
    "from dataset import dataset_class"
   ]
  },
  {
   "cell_type": "markdown",
   "id": "e54cde54dff4dedb",
   "metadata": {
    "collapsed": false
   },
   "source": [
    "--- \n",
    "### Choosing The Algorithm To Be Applied\n",
    "---"
   ]
  },
  {
   "cell_type": "code",
   "execution_count": 109,
   "id": "da35042c9b8d8b82",
   "metadata": {
    "ExecuteTime": {
     "end_time": "2024-06-03T09:24:42.382949Z",
     "start_time": "2024-06-03T09:24:42.377018Z"
    },
    "collapsed": false
   },
   "outputs": [],
   "source": [
    "algo_type = \"pca\""
   ]
  },
  {
   "cell_type": "markdown",
   "id": "efbdd287f647dac0",
   "metadata": {
    "collapsed": false
   },
   "source": [
    "--- \n",
    "### Choosing The input-type\n",
    "---"
   ]
  },
  {
   "cell_type": "code",
   "execution_count": 122,
   "id": "b3826d8ff158da7e",
   "metadata": {
    "ExecuteTime": {
     "end_time": "2024-06-03T09:24:43.287677Z",
     "start_time": "2024-06-03T09:24:43.283730Z"
    },
    "collapsed": false
   },
   "outputs": [],
   "source": [
    "#for single image = 0\n",
    "#for video = 1\n",
    "#for group image = 2\n",
    "\n",
    "reco_type = 1"
   ]
  },
  {
   "cell_type": "markdown",
   "id": "a1798139c669c91f",
   "metadata": {
    "collapsed": false
   },
   "source": [
    "--- \n",
    "### Splitting the images as training and testing DATA\n",
    "---"
   ]
  },
  {
   "cell_type": "code",
   "execution_count": 123,
   "id": "a42d661c602323ca",
   "metadata": {
    "ExecuteTime": {
     "end_time": "2024-06-03T09:24:43.850657Z",
     "start_time": "2024-06-03T09:24:43.837426Z"
    },
    "collapsed": false
   },
   "outputs": [],
   "source": [
    "#No of images For Training(Left will be used as testing Image)\n",
    "no_of_images_of_one_person = 8\n",
    "dataset_obj = dataset_class(no_of_images_of_one_person)"
   ]
  },
  {
   "cell_type": "markdown",
   "id": "95d5e4debd3ec6d9",
   "metadata": {
    "collapsed": false
   },
   "source": [
    "--- \n",
    "### Extracting data For Training\n",
    "---"
   ]
  },
  {
   "cell_type": "code",
   "execution_count": 124,
   "id": "34faef70a4e69e5b",
   "metadata": {
    "ExecuteTime": {
     "end_time": "2024-06-03T09:24:44.645720Z",
     "start_time": "2024-06-03T09:24:44.642666Z"
    },
    "collapsed": false
   },
   "outputs": [],
   "source": [
    "#Data For Training\n",
    "images_names = dataset_obj.images_name_for_train\n",
    "y = dataset_obj.y_for_train\n",
    "no_of_elements = dataset_obj.no_of_elements_for_train\n",
    "target_names = dataset_obj.target_name_as_array"
   ]
  },
  {
   "cell_type": "markdown",
   "id": "108312761ba4642",
   "metadata": {
    "collapsed": false
   },
   "source": [
    "--- \n",
    "### Extracting data For Testing\n",
    "---"
   ]
  },
  {
   "cell_type": "code",
   "execution_count": 125,
   "id": "fab1ac40cb03f54d",
   "metadata": {
    "ExecuteTime": {
     "end_time": "2024-06-03T09:24:47.412319Z",
     "start_time": "2024-06-03T09:24:47.406660Z"
    },
    "collapsed": false
   },
   "outputs": [],
   "source": [
    "#Data For Testing\n",
    "images_names_for_test = dataset_obj.images_name_for_test\n",
    "y_for_test = dataset_obj.y_for_test\n",
    "no_of_elements_for_test = dataset_obj.no_of_elements_for_test"
   ]
  },
  {
   "cell_type": "markdown",
   "id": "74ee4c5c839699e6",
   "metadata": {
    "collapsed": false
   },
   "source": [
    "--- \n",
    "### Getting the Final-Matrix For Applying PCA\n",
    "---"
   ]
  },
  {
   "cell_type": "code",
   "execution_count": 129,
   "id": "a9ba844bb4e2e96a",
   "metadata": {
    "ExecuteTime": {
     "end_time": "2024-06-03T09:25:43.852365Z",
     "start_time": "2024-06-03T09:25:41.016430Z"
    },
    "collapsed": false
   },
   "outputs": [],
   "source": [
    "img_width, img_height = 50, 50\n",
    "i_t_m_c = images_to_matrix_class(images_names, img_width, img_height)\n",
    "scaled_face = i_t_m_c.get_matrix()"
   ]
  },
  {
   "cell_type": "markdown",
   "id": "ce2c8c892e87c409",
   "metadata": {
    "collapsed": false
   },
   "source": [
    "--- \n",
    "### Applying PCA on the above Matrix\n",
    "---"
   ]
  },
  {
   "cell_type": "code",
   "execution_count": 130,
   "id": "d2884dadfd76e091",
   "metadata": {
    "ExecuteTime": {
     "end_time": "2024-06-03T09:25:45.254979Z",
     "start_time": "2024-06-03T09:25:43.852365Z"
    },
    "collapsed": false
   },
   "outputs": [],
   "source": [
    "my_algo = pca_class(scaled_face, y, target_names, no_of_elements, 90)\n",
    "new_coordinates = my_algo.reduce_dim() #this is the new-coordinates"
   ]
  },
  {
   "cell_type": "markdown",
   "id": "c91ec0ab0c4cade1",
   "metadata": {
    "collapsed": false
   },
   "source": [
    "--- \n",
    "### Displaying Original-Image Of Person-1\n",
    "---"
   ]
  },
  {
   "cell_type": "code",
   "execution_count": null,
   "id": "6eca3c98d2353ff4",
   "metadata": {
    "ExecuteTime": {
     "end_time": "2024-06-03T09:40:04.331863Z",
     "start_time": "2024-06-03T09:40:02.323699Z"
    },
    "collapsed": false
   },
   "outputs": [],
   "source": [
    "cv2.imshow(\"Original Image\" , cv2.resize(np.array(np.reshape(scaled_face[:,1],[img_height, img_width]), dtype = np.uint8),(200, 200)))\n",
    "cv2.waitKey()"
   ]
  },
  {
   "cell_type": "markdown",
   "id": "876627095a7b0af0",
   "metadata": {
    "collapsed": false
   },
   "source": [
    "--- \n",
    "### Displaying Eigen-Image Of Person-1\n",
    "---"
   ]
  },
  {
   "cell_type": "code",
   "execution_count": null,
   "id": "271dc243b3434b05",
   "metadata": {
    "ExecuteTime": {
     "end_time": "2024-06-03T09:40:09.037271Z",
     "start_time": "2024-06-03T09:40:06.300881Z"
    },
    "collapsed": false
   },
   "outputs": [],
   "source": [
    "my_algo.show_eigen_face(img_width, img_height, 50, 150, 0)"
   ]
  },
  {
   "cell_type": "markdown",
   "id": "2322ad0b3d3229fd",
   "metadata": {
    "collapsed": false
   },
   "source": [
    "--- \n",
    "### Displaying PCA-Image Of Person-1\n",
    "---"
   ]
  },
  {
   "cell_type": "code",
   "execution_count": null,
   "id": "852b07d088662f55",
   "metadata": {
    "ExecuteTime": {
     "end_time": "2024-06-03T09:40:13.083767Z",
     "start_time": "2024-06-03T09:40:10.862107Z"
    },
    "collapsed": false
   },
   "outputs": [
    {
     "data": {
      "text/plain": [
       "-1"
      ]
     },
     "execution_count": 11,
     "metadata": {},
     "output_type": "execute_result"
    }
   ],
   "source": [
    "cv2.imshow(\"After PCA Image\", cv2.resize(np.array(np.reshape(my_algo.original_data(new_coordinates[1, :]), [img_height, img_width]), dtype = np.uint8), (200, 200)))\n",
    "cv2.waitKey()"
   ]
  },
  {
   "cell_type": "markdown",
   "id": "fff2a16a7a04f479",
   "metadata": {
    "collapsed": false
   },
   "source": [
    "--- \n",
    "### Testing The Model With the Images\n",
    "---"
   ]
  },
  {
   "cell_type": "code",
   "execution_count": 131,
   "id": "87812785a2d1e9e4",
   "metadata": {
    "ExecuteTime": {
     "end_time": "2024-06-03T09:40:16.320480Z",
     "start_time": "2024-06-03T09:40:14.535595Z"
    },
    "collapsed": false
   },
   "outputs": [
    {
     "name": "stdout",
     "output_type": "stream",
     "text": [
      "Person 0 : 0 deepan\n",
      "Correct  Name: deepan\n",
      "Person 0 : 0 deepan\n",
      "Correct  Name: deepan\n",
      "Person 0 : 1 deepan_1\n",
      "Correct  Name: deepan_1\n",
      "Person 0 : 2 deepan_2\n",
      "Correct  Name: deepan_2\n",
      "Person 0 : 2 deepan_2\n",
      "Correct  Name: deepan_2\n",
      "Person 0 : 2 deepan_2\n",
      "Wrong:  Real Name: deepan_3 Rec Y: 3 Find Name: deepan_2\n",
      "Person 0 : 2 deepan_2\n",
      "Wrong:  Real Name: deepan_3 Rec Y: 3 Find Name: deepan_2\n",
      "Person 0 : 4 Nila\n",
      "Correct  Name: Nila\n",
      "Person 0 : 4 Nila\n",
      "Correct  Name: Nila\n",
      "Person 0 : 4 Nila\n",
      "Correct  Name: Nila\n",
      "Person 0 : 5 nila_1\n",
      "Correct  Name: nila_1\n",
      "Person 0 : 5 nila_1\n",
      "Correct  Name: nila_1\n",
      "Person 0 : 6 nila_2\n",
      "Correct  Name: nila_2\n",
      "Person 0 : 6 nila_2\n",
      "Correct  Name: nila_2\n",
      "Person 0 : 7 p1\n",
      "Correct  Name: p1\n",
      "Person 0 : 7 p1\n",
      "Correct  Name: p1\n",
      "Person 0 : 8 p10\n",
      "Correct  Name: p10\n",
      "Person 0 : 8 p10\n",
      "Correct  Name: p10\n",
      "Person 0 : 9 p11\n",
      "Correct  Name: p11\n",
      "Person 0 : 9 p11\n",
      "Correct  Name: p11\n",
      "Person 0 : 10 p12\n",
      "Correct  Name: p12\n",
      "Person 0 : 10 p12\n",
      "Correct  Name: p12\n",
      "Person 0 : 11 p13\n",
      "Correct  Name: p13\n",
      "Person 0 : 11 p13\n",
      "Correct  Name: p13\n",
      "Person 0 : 12 p14\n",
      "Correct  Name: p14\n",
      "Person 0 : 12 p14\n",
      "Correct  Name: p14\n",
      "Person 0 : 24 p25\n",
      "Wrong:  Real Name: p15 Rec Y: 13 Find Name: p25\n",
      "Person 0 : 13 p15\n",
      "Correct  Name: p15\n",
      "Person 0 : 14 p16\n",
      "Correct  Name: p16\n",
      "Person 0 : 14 p16\n",
      "Correct  Name: p16\n",
      "Person 0 : 15 p17\n",
      "Correct  Name: p17\n",
      "Person 0 : 15 p17\n",
      "Correct  Name: p17\n",
      "Person 0 : 16 p18\n",
      "Correct  Name: p18\n",
      "Person 0 : 16 p18\n",
      "Correct  Name: p18\n",
      "Person 0 : 17 p19\n",
      "Correct  Name: p19\n",
      "Person 0 : 17 p19\n",
      "Correct  Name: p19\n",
      "Person 0 : 18 p2\n",
      "Correct  Name: p2\n",
      "Person 0 : 18 p2\n",
      "Correct  Name: p2\n",
      "Person 0 : 19 p20\n",
      "Correct  Name: p20\n",
      "Person 0 : 19 p20\n",
      "Correct  Name: p20\n",
      "Person 0 : 20 p21\n",
      "Correct  Name: p21\n",
      "Person 0 : 20 p21\n",
      "Correct  Name: p21\n",
      "Person 0 : 21 p22\n",
      "Correct  Name: p22\n",
      "Person 0 : 21 p22\n",
      "Correct  Name: p22\n",
      "Person 0 : 22 p23\n",
      "Correct  Name: p23\n",
      "Person 0 : 22 p23\n",
      "Correct  Name: p23\n",
      "Person 0 : 23 p24\n",
      "Correct  Name: p24\n",
      "Person 0 : 23 p24\n",
      "Correct  Name: p24\n",
      "Person 0 : 24 p25\n",
      "Correct  Name: p25\n",
      "Person 0 : 24 p25\n",
      "Correct  Name: p25\n",
      "Person 0 : 35 p35\n",
      "Wrong:  Real Name: p26 Rec Y: 25 Find Name: p35\n",
      "Person 0 : 25 p26\n",
      "Correct  Name: p26\n",
      "Person 0 : 26 p27\n",
      "Correct  Name: p27\n",
      "Person 0 : 38 p38\n",
      "Wrong:  Real Name: p27 Rec Y: 26 Find Name: p38\n",
      "Person 0 : 27 p28\n",
      "Correct  Name: p28\n",
      "Person 0 : 27 p28\n",
      "Correct  Name: p28\n",
      "Person 0 : 8 p10\n",
      "Wrong:  Real Name: p29 Rec Y: 28 Find Name: p10\n",
      "Person 0 : 19 p20\n",
      "Wrong:  Real Name: p29 Rec Y: 28 Find Name: p20\n",
      "Person 0 : 29 p3\n",
      "Correct  Name: p3\n",
      "Person 0 : 29 p3\n",
      "Correct  Name: p3\n",
      "Person 0 : 30 p30\n",
      "Correct  Name: p30\n",
      "Person 0 : 30 p30\n",
      "Correct  Name: p30\n",
      "Person 0 : 31 p31\n",
      "Correct  Name: p31\n",
      "Person 0 : 31 p31\n",
      "Correct  Name: p31\n",
      "Person 0 : 32 p32\n",
      "Correct  Name: p32\n",
      "Person 0 : 32 p32\n",
      "Correct  Name: p32\n",
      "Person 0 : 33 p33\n",
      "Correct  Name: p33\n",
      "Person 0 : 33 p33\n",
      "Correct  Name: p33\n",
      "Person 0 : 34 p34\n",
      "Correct  Name: p34\n",
      "Person 0 : 34 p34\n",
      "Correct  Name: p34\n",
      "Person 0 : 35 p35\n",
      "Correct  Name: p35\n",
      "Person 0 : 35 p35\n",
      "Correct  Name: p35\n",
      "Person 0 : 36 p36\n",
      "Correct  Name: p36\n",
      "Person 0 : 36 p36\n",
      "Correct  Name: p36\n",
      "Person 0 : 37 p37\n",
      "Correct  Name: p37\n",
      "Person 0 : 37 p37\n",
      "Correct  Name: p37\n",
      "Person 0 : 38 p38\n",
      "Correct  Name: p38\n",
      "Person 0 : 38 p38\n",
      "Correct  Name: p38\n",
      "Person 0 : 39 p4\n",
      "Correct  Name: p4\n",
      "Person 0 : 39 p4\n",
      "Correct  Name: p4\n",
      "Person 0 : 40 p5\n",
      "Correct  Name: p5\n",
      "Person 0 : 40 p5\n",
      "Correct  Name: p5\n",
      "Person 0 : 41 p6\n",
      "Correct  Name: p6\n",
      "Person 0 : 41 p6\n",
      "Correct  Name: p6\n",
      "Person 0 : 42 p7\n",
      "Correct  Name: p7\n",
      "Person 0 : 42 p7\n",
      "Correct  Name: p7\n",
      "Person 0 : 43 p8\n",
      "Correct  Name: p8\n",
      "Person 0 : 43 p8\n",
      "Correct  Name: p8\n",
      "Person 0 : 45 santhosh_1\n",
      "Wrong:  Real Name: santhosh Rec Y: 44 Find Name: santhosh_1\n",
      "Person 0 : 46 santhosh_2\n",
      "Wrong:  Real Name: santhosh Rec Y: 44 Find Name: santhosh_2\n",
      "Person 0 : 45 santhosh_1\n",
      "Correct  Name: santhosh_1\n",
      "Person 0 : 45 santhosh_1\n",
      "Correct  Name: santhosh_1\n",
      "Person 0 : 45 santhosh_1\n",
      "Wrong:  Real Name: santhosh_2 Rec Y: 46 Find Name: santhosh_1\n",
      "Person 0 : 45 santhosh_1\n",
      "Wrong:  Real Name: santhosh_2 Rec Y: 46 Find Name: santhosh_1\n",
      "Person 0 : 47 thoshi\n",
      "Correct  Name: thoshi\n",
      "Person 0 : 47 thoshi\n",
      "Correct  Name: thoshi\n",
      "Person 0 : 47 thoshi\n",
      "Wrong:  Real Name: thoshi_1 Rec Y: 48 Find Name: thoshi\n",
      "Person 0 : 47 thoshi\n",
      "Wrong:  Real Name: thoshi_1 Rec Y: 48 Find Name: thoshi\n",
      "Person 0 : 49 thoshi_2\n",
      "Correct  Name: thoshi_2\n",
      "Person 0 : 47 thoshi\n",
      "Wrong:  Real Name: thoshi_2 Rec Y: 49 Find Name: thoshi\n",
      "Correct 86\n",
      "Wrong 14\n",
      "Total Test Images 100\n",
      "Percent 86.0\n",
      "Total Person 50\n",
      "Total Train Images 400\n"
     ]
    }
   ],
   "source": [
    "correct = 0\n",
    "wrong = 0\n",
    "i = 0\n",
    "net_time_of_reco = 0\n",
    "\n",
    "for img_path in images_names_for_test:\n",
    "\n",
    "    find_name = my_algo.recognize_face(my_algo.new_cord(img_path, img_height, img_width))\n",
    "    rec_y = y_for_test[i]\n",
    "    rec_name = target_names[rec_y]\n",
    "    if find_name is rec_name:\n",
    "        correct += 1\n",
    "        print(\"Correct\", \" Name:\", find_name)\n",
    "    else:\n",
    "        wrong +=1\n",
    "        print(\"Wrong:\", \" Real Name:\", rec_name, \"Rec Y:\", rec_y, \"Find Name:\", find_name)\n",
    "    i+=1\n",
    "\n",
    "print(\"Correct\", correct)\n",
    "print(\"Wrong\", wrong)\n",
    "print(\"Total Test Images\", i)\n",
    "print(\"Percent\", correct/i*100)\n",
    "print(\"Total Person\", len(target_names))\n",
    "print(\"Total Train Images\", no_of_images_of_one_person * len(target_names))"
   ]
  },
  {
   "cell_type": "markdown",
   "id": "f496a21888c18079",
   "metadata": {
    "collapsed": false
   },
   "source": [
    "--- \n",
    "### Recoginizing Face\n",
    "---"
   ]
  },
  {
   "cell_type": "code",
   "execution_count": 133,
   "id": "b694c8e4e65ad8ce",
   "metadata": {
    "ExecuteTime": {
     "end_time": "2024-06-03T09:39:23.057361Z",
     "start_time": "2024-06-03T09:39:23.057361Z"
    },
    "collapsed": false
   },
   "outputs": [
    {
     "name": "stdout",
     "output_type": "stream",
     "text": [
      "Person 0 : 47 Unknown\n",
      "Unknown\n"
     ]
    }
   ],
   "source": [
    "def image_detection(img_path):\n",
    "    find_name = my_algo.recognize_face(my_algo.new_cord(img_path, img_height, img_width))\n",
    "    print(find_name)\n",
    "img_path=r'D:\\sem_6\\big_data\\face_recog\\backend\\uploads\\captured_image_20250407_193001.jpg'\n",
    "image_detection(img_path)"
   ]
  }
 ],
 "metadata": {
  "kernelspec": {
   "display_name": "Python 3",
   "language": "python",
   "name": "python3"
  },
  "language_info": {
   "codemirror_mode": {
    "name": "ipython",
    "version": 3
   },
   "file_extension": ".py",
   "mimetype": "text/x-python",
   "name": "python",
   "nbconvert_exporter": "python",
   "pygments_lexer": "ipython3",
   "version": "3.12.6"
  }
 },
 "nbformat": 4,
 "nbformat_minor": 5
}
